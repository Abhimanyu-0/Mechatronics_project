{
 "cells": [
  {
   "cell_type": "code",
   "execution_count": 1,
   "id": "749e6f5d",
   "metadata": {},
   "outputs": [],
   "source": [
    "import speech_recognition as sr\n",
    "import serial\n",
    "import time"
   ]
  },
  {
   "cell_type": "code",
   "execution_count": 3,
   "id": "9fca5064",
   "metadata": {},
   "outputs": [],
   "source": [
    "ser = serial.Serial('/dev/cu.usbmodem2101', baudrate=9600) \n",
    "time.sleep(3)"
   ]
  },
  {
   "cell_type": "code",
   "execution_count": null,
   "id": "439479fc",
   "metadata": {},
   "outputs": [
    {
     "name": "stdout",
     "output_type": "stream",
     "text": [
      "Say something:\n",
      "No speech detected. Waiting for the next input...\n",
      "Say something:\n",
      "Processing...\n",
      "You said: stop\n"
     ]
    }
   ],
   "source": [
    "r = sr.Recognizer()\n",
    "\n",
    "\n",
    "try:\n",
    "   while True:\n",
    "       with sr.Microphone() as source:\n",
    "           print(\"Say something:\")\n",
    "           try:\n",
    "               audio = r.listen(source, timeout=1.5)  # Set a timeout of 1.5 seconds\n",
    "               print(\"Processing...\")\n",
    "               command = r.recognize_google(audio).lower()\n",
    "               print(\"You said:\", command)\n",
    "               \n",
    "\n",
    "\n",
    "               # Send commands to Arduino based on voice input\n",
    "               if \"forward\" in command:\n",
    "                    ser.write(b'F')# Send 'F' for forward\n",
    "               elif \"backward\" in command:\n",
    "                   ser.write('B'.encode())  # Send 'B' for backward\n",
    "               elif \"left\" in command:\n",
    "                   ser.write(b'L')  # Send 'L' for left\n",
    "               elif \"right\" in command:\n",
    "                   ser.write(b'R')  # Send 'R' for right\n",
    "               elif \"stop\" in command:\n",
    "                   ser.write(b'S')\n",
    "                   time.sleep(1)\n",
    "                   strig = ser.read(1)\n",
    "                   print(strig)\n",
    "                    # Send 'S' to stop or perform a specific action in Arduino\n",
    "               else:\n",
    "                   print(\"Command not recognized.\")\n",
    "                    \n",
    "               \n",
    "\n",
    "\n",
    "               time.sleep(0.5)  # Delay for stability\n",
    "\n",
    "\n",
    "           except sr.WaitTimeoutError:\n",
    "               print(\"No speech detected. Waiting for the next input...\")\n",
    "               continue\n",
    "           except sr.UnknownValueError:\n",
    "               print(\"Could not understand audio. Please try again.\")\n",
    "               continue\n",
    "           except sr.RequestError as e:\n",
    "               print(\"Error with the service; {0}\".format(e))\n",
    "               continue\n",
    "            \n",
    "\n",
    "\n",
    "except KeyboardInterrupt:\n",
    "   print(\"\\nProgram stopped by the user.\")\n",
    "\n",
    "\n"
   ]
  },
  {
   "cell_type": "code",
   "execution_count": null,
   "id": "a249cfdf",
   "metadata": {},
   "outputs": [],
   "source": [
    "\n",
    "\n",
    "ser.write(b'F')\n",
    "string = ser.read()\n",
    "print(string)\n"
   ]
  },
  {
   "cell_type": "code",
   "execution_count": null,
   "id": "2fa227f0",
   "metadata": {},
   "outputs": [],
   "source": [
    "string"
   ]
  },
  {
   "cell_type": "code",
   "execution_count": null,
   "id": "3300ec7b",
   "metadata": {},
   "outputs": [],
   "source": []
  }
 ],
 "metadata": {
  "kernelspec": {
   "display_name": "Python 3 (ipykernel)",
   "language": "python",
   "name": "python3"
  },
  "language_info": {
   "codemirror_mode": {
    "name": "ipython",
    "version": 3
   },
   "file_extension": ".py",
   "mimetype": "text/x-python",
   "name": "python",
   "nbconvert_exporter": "python",
   "pygments_lexer": "ipython3",
   "version": "3.11.5"
  }
 },
 "nbformat": 4,
 "nbformat_minor": 5
}
